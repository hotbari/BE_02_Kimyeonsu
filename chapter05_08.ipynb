{
  "nbformat": 4,
  "nbformat_minor": 0,
  "metadata": {
    "colab": {
      "provenance": [],
      "authorship_tag": "ABX9TyNBJ7cKz69v9avsEX/jJTs6",
      "include_colab_link": true
    },
    "kernelspec": {
      "name": "python3",
      "display_name": "Python 3"
    },
    "language_info": {
      "name": "python"
    }
  },
  "cells": [
    {
      "cell_type": "markdown",
      "metadata": {
        "id": "view-in-github",
        "colab_type": "text"
      },
      "source": [
        "<a href=\"https://colab.research.google.com/github/hotbari/BE_02_Kimyeonsu/blob/main/chapter05_08.ipynb\" target=\"_parent\"><img src=\"https://colab.research.google.com/assets/colab-badge.svg\" alt=\"Open In Colab\"/></a>"
      ]
    },
    {
      "cell_type": "code",
      "execution_count": 9,
      "metadata": {
        "colab": {
          "base_uri": "https://localhost:8080/"
        },
        "id": "AEk2ft5t8xm0",
        "outputId": "68c7fc46-e82b-49e4-a6ef-ab965c31b0da"
      },
      "outputs": [
        {
          "output_type": "stream",
          "name": "stdout",
          "text": [
            "아메리카노 2잔 10000원, 아샷추 3잔 19500원. 총 29500원 입니다\n"
          ]
        }
      ],
      "source": [
        "## 아아 : 5000원 / 아샷추 : 6500원\n",
        "# 아아 2잔 / 아샷추 3잔\n",
        "\n",
        "americano_price = 5000\n",
        "addshot_price = 6500\n",
        "\n",
        "americano_order = 2\n",
        "addshot_order = 3\n",
        "\n",
        "americano_sell = americano_price * americano_order\n",
        "addshot_sell = addshot_price * addshot_order\n",
        "\n",
        "print(f'아메리카노 {americano_order}잔 {americano_sell}원, 아샷추 {addshot_order}잔 {addshot_sell}원. 총 {(americano_sell + addshot_sell)}원 입니다')"
      ]
    },
    {
      "cell_type": "code",
      "source": [
        "# 하나의 값을 변수에 넣을 때\n",
        "num = 1\n",
        "print(num)\n",
        "\n",
        "# 두 개의 값을 변수에 넣을 때\n",
        "num_1, num_2 = 1,2\n",
        "print(num_1)\n",
        "print(num_2)\n",
        "print(num_1,num_2)"
      ],
      "metadata": {
        "colab": {
          "base_uri": "https://localhost:8080/"
        },
        "id": "7D18N5jEBEg0",
        "outputId": "980d03f9-8511-4b9d-a8f9-bdb4ccd3c334"
      },
      "execution_count": 10,
      "outputs": [
        {
          "output_type": "stream",
          "name": "stdout",
          "text": [
            "1\n",
            "1\n",
            "2\n",
            "1 2\n"
          ]
        }
      ]
    },
    {
      "cell_type": "markdown",
      "source": [
        "1부터 5까지 숫자를 더하는 문제"
      ],
      "metadata": {
        "id": "3aBgZkeiBbhY"
      }
    },
    {
      "cell_type": "code",
      "source": [
        "# 할당(assignment) 활용\n",
        "\n",
        "sum = 1\n",
        "sum += 2\n",
        "sum += 3\n",
        "sum += 4\n",
        "sum += 5\n",
        "print(sum)\n",
        "\n",
        "sum -= 5\n",
        "sum -= 4\n",
        "sum -= 3\n",
        "sum -= 2\n",
        "sum -= 1\n",
        "print(sum)\n",
        "\n"
      ],
      "metadata": {
        "colab": {
          "base_uri": "https://localhost:8080/"
        },
        "id": "mq9fbmejBUZ8",
        "outputId": "9b9f6d05-d991-4421-9c93-b9c3fd3424ca"
      },
      "execution_count": 13,
      "outputs": [
        {
          "output_type": "stream",
          "name": "stdout",
          "text": [
            "15\n",
            "0\n"
          ]
        }
      ]
    },
    {
      "cell_type": "code",
      "source": [
        "nothing = None\n",
        "nothing"
      ],
      "metadata": {
        "id": "B6rlSr-DDVW5"
      },
      "execution_count": 16,
      "outputs": []
    },
    {
      "cell_type": "code",
      "source": [
        "print(None)"
      ],
      "metadata": {
        "colab": {
          "base_uri": "https://localhost:8080/"
        },
        "id": "LG6Ei5vzDdPi",
        "outputId": "ea102b70-45f5-4a2b-caca-994b28836d35"
      },
      "execution_count": 17,
      "outputs": [
        {
          "output_type": "stream",
          "name": "stdout",
          "text": [
            "None\n"
          ]
        }
      ]
    },
    {
      "cell_type": "code",
      "source": [
        "print(nothing)"
      ],
      "metadata": {
        "colab": {
          "base_uri": "https://localhost:8080/"
        },
        "id": "K8FcD3UyDftP",
        "outputId": "4554069a-321e-4dff-8345-767727a56f1c"
      },
      "execution_count": 18,
      "outputs": [
        {
          "output_type": "stream",
          "name": "stdout",
          "text": [
            "None\n"
          ]
        }
      ]
    },
    {
      "cell_type": "code",
      "source": [
        "# 변수는 대소문자를 구분해요\n",
        "Big = \"되게 크다\"\n",
        "big = \"쫌 크다\"\n",
        "print(Big, big)"
      ],
      "metadata": {
        "colab": {
          "base_uri": "https://localhost:8080/"
        },
        "id": "2Mix5-iYD_vY",
        "outputId": "f16fdc84-1487-4f2d-d000-fc171d5d0984"
      },
      "execution_count": 19,
      "outputs": [
        {
          "output_type": "stream",
          "name": "stdout",
          "text": [
            "되게 크다 쫌 크다\n"
          ]
        }
      ]
    },
    {
      "cell_type": "markdown",
      "source": [
        "스네이크 케이스(snake_case)   \n",
        "카멜 케이스(camelCase)"
      ],
      "metadata": {
        "id": "f0lqRdY2EJ2_"
      }
    },
    {
      "cell_type": "code",
      "source": [
        "#print() 포메팅 3가지\n",
        "# f-strin : print(f' {변수명}')"
      ],
      "metadata": {
        "id": "64vuLu7gEIYY"
      },
      "execution_count": null,
      "outputs": []
    },
    {
      "cell_type": "code",
      "source": [
        "## 붕어빵\n",
        "\n",
        "\n",
        "p='붕어빵(팥)'\n",
        "s='붕어빵(슈크림)'\n",
        "j='붕어빵(잡채)'\n",
        "\n",
        "# 붕어빵 단품 가격\n",
        "p__price = 2000\n",
        "s__price = 2500\n",
        "j__price = 3000\n",
        "\n",
        "# 붕어빵 주문 수량\n",
        "p__order = int(input('팥붕:'))\n",
        "s__order = int(input('슈붕:'))\n",
        "j__order = int(input('잡붕:'))\n",
        "\n",
        "# 붕어빵 결제 금액\n",
        "p__sell = p__price * p__order\n",
        "s__sell = s__price * s__order\n",
        "j__sell = j__price * j__order\n",
        "\n",
        "print(f'주문이 완료되었습니다. {p} {p__order}개, {s} {s__order}개, {j} {j__order}개 총 {p__order + s__order + j__order}개 결제 금액은 {p__sell + s__sell + j__sell}입니다. ')\n"
      ],
      "metadata": {
        "colab": {
          "base_uri": "https://localhost:8080/"
        },
        "id": "3huX_6E0E_MG",
        "outputId": "559e2775-3a49-43ac-e35b-488425c516ca"
      },
      "execution_count": 25,
      "outputs": [
        {
          "output_type": "stream",
          "name": "stdout",
          "text": [
            "팥붕:5\n",
            "슈붕:2\n",
            "잡붕:1\n",
            "주문이 완료되었습니다. 붕어빵(팥) 5개, 붕어빵(슈크림) 2개, 붕어빵(잡채) 1개 총 8개 결제 금액은 18000입니다. \n"
          ]
        }
      ]
    },
    {
      "cell_type": "code",
      "source": [
        "#1. int(integer)\n",
        "#2. float\n",
        "#3. str\n",
        "#4. bool : 참/거짓, True/False, 1/0\n",
        "\n",
        "#5.list\n",
        "#6. tuple\n",
        "#7. dict\n",
        "#8. set"
      ],
      "metadata": {
        "colab": {
          "base_uri": "https://localhost:8080/"
        },
        "id": "i4W1ELh_I7zX",
        "outputId": "4da1bea1-7ce3-4f38-c01e-ce9094ef73b6"
      },
      "execution_count": 34,
      "outputs": [
        {
          "output_type": "stream",
          "name": "stdout",
          "text": [
            "0\n"
          ]
        }
      ]
    },
    {
      "cell_type": "code",
      "source": [
        "# 형 변환\n",
        "print(float(5))\n",
        "print(int(5.0))"
      ],
      "metadata": {
        "colab": {
          "base_uri": "https://localhost:8080/"
        },
        "id": "xOp11xN9MvFH",
        "outputId": "85ce2e67-68a4-4409-d7c2-bddbc7e80850"
      },
      "execution_count": 35,
      "outputs": [
        {
          "output_type": "stream",
          "name": "stdout",
          "text": [
            "5.0\n",
            "5\n"
          ]
        }
      ]
    },
    {
      "cell_type": "code",
      "source": [
        "#int형이 가지고 있는 속성들\n",
        "나이 = 21\n",
        "type(나이)\n",
        "print(dir(나이))"
      ],
      "metadata": {
        "colab": {
          "base_uri": "https://localhost:8080/"
        },
        "id": "IX0vQjaGM3IA",
        "outputId": "e34fb765-e569-4bb7-cb59-16da65b982df"
      },
      "execution_count": 36,
      "outputs": [
        {
          "output_type": "stream",
          "name": "stdout",
          "text": [
            "['__abs__', '__add__', '__and__', '__bool__', '__ceil__', '__class__', '__delattr__', '__dir__', '__divmod__', '__doc__', '__eq__', '__float__', '__floor__', '__floordiv__', '__format__', '__ge__', '__getattribute__', '__getnewargs__', '__gt__', '__hash__', '__index__', '__init__', '__init_subclass__', '__int__', '__invert__', '__le__', '__lshift__', '__lt__', '__mod__', '__mul__', '__ne__', '__neg__', '__new__', '__or__', '__pos__', '__pow__', '__radd__', '__rand__', '__rdivmod__', '__reduce__', '__reduce_ex__', '__repr__', '__rfloordiv__', '__rlshift__', '__rmod__', '__rmul__', '__ror__', '__round__', '__rpow__', '__rrshift__', '__rshift__', '__rsub__', '__rtruediv__', '__rxor__', '__setattr__', '__sizeof__', '__str__', '__sub__', '__subclasshook__', '__truediv__', '__trunc__', '__xor__', 'as_integer_ratio', 'bit_count', 'bit_length', 'conjugate', 'denominator', 'from_bytes', 'imag', 'numerator', 'real', 'to_bytes']\n"
          ]
        }
      ]
    },
    {
      "cell_type": "code",
      "source": [
        "print(나이.bit_length())\n",
        "print(bin(나이))"
      ],
      "metadata": {
        "colab": {
          "base_uri": "https://localhost:8080/"
        },
        "id": "HBTv4S7JNAXy",
        "outputId": "a246c29b-0193-4505-e66e-5762185cc0d3"
      },
      "execution_count": 37,
      "outputs": [
        {
          "output_type": "stream",
          "name": "stdout",
          "text": [
            "5\n",
            "0b10101\n"
          ]
        }
      ]
    },
    {
      "cell_type": "code",
      "source": [
        "이름 = '정성찬'\n",
        "나이 = 21\n",
        "소속 = '서울특별시 청담동'\n",
        "키 = 186\n",
        "\n",
        "print(type(이름))\n",
        "print(type(나이))\n",
        "print(type(소속))\n",
        "print(type(키))\n"
      ],
      "metadata": {
        "colab": {
          "base_uri": "https://localhost:8080/"
        },
        "id": "gwIricf6QvC0",
        "outputId": "b4f448a4-5895-44b2-c7db-820910bf13c5"
      },
      "execution_count": 46,
      "outputs": [
        {
          "output_type": "stream",
          "name": "stdout",
          "text": [
            "<class 'str'>\n",
            "<class 'int'>\n",
            "<class 'str'>\n",
            "<class 'int'>\n"
          ]
        }
      ]
    },
    {
      "cell_type": "markdown",
      "source": [
        "str : 문자열  \n",
        "특징 : 시퀀스 자료형  \n",
        "*시퀀스란? 요소들이 연속적으로 이어진 자료형  \n",
        "값 하나하나를 요소라고 한다"
      ],
      "metadata": {
        "id": "AY78olTeRRtI"
      }
    },
    {
      "cell_type": "code",
      "source": [
        "print(소속[0])\n",
        "print(소속[1])\n",
        "print(소속[2])\n",
        "print(소속[3])\n",
        "print(소속[4])\n",
        "print(소속[5])\n",
        "print(소속[6])\n",
        "print(소속[7])\n",
        "print(소속[8])\n",
        "\n",
        "print('시' in 소속)"
      ],
      "metadata": {
        "colab": {
          "base_uri": "https://localhost:8080/"
        },
        "id": "GzOcGHgiRIZz",
        "outputId": "93c977b6-5677-47ab-b3bf-0dfa07459ae7"
      },
      "execution_count": 50,
      "outputs": [
        {
          "output_type": "stream",
          "name": "stdout",
          "text": [
            "서\n",
            "울\n",
            "특\n",
            "별\n",
            "시\n",
            " \n",
            "청\n",
            "담\n",
            "동\n",
            "True\n"
          ]
        }
      ]
    },
    {
      "cell_type": "code",
      "source": [
        "게임 = '아싸홍삼! 에브리바디 홍삼!'\n",
        "print(게임)\n",
        "print(게임 * 6)"
      ],
      "metadata": {
        "colab": {
          "base_uri": "https://localhost:8080/"
        },
        "id": "J-8RbW1USC2_",
        "outputId": "42647211-3e15-4210-8351-a6c39812f6c1"
      },
      "execution_count": 52,
      "outputs": [
        {
          "output_type": "stream",
          "name": "stdout",
          "text": [
            "아싸홍삼! 에브리바디 홍삼!\n",
            "아싸홍삼! 에브리바디 홍삼!아싸홍삼! 에브리바디 홍삼!아싸홍삼! 에브리바디 홍삼!아싸홍삼! 에브리바디 홍삼!아싸홍삼! 에브리바디 홍삼!아싸홍삼! 에브리바디 홍삼!\n"
          ]
        }
      ]
    },
    {
      "cell_type": "code",
      "source": [
        "#슬라이싱 변수명[시작값:끝값+1]\n",
        "print(게임[0:6])"
      ],
      "metadata": {
        "colab": {
          "base_uri": "https://localhost:8080/"
        },
        "id": "BYI-zqjuSOYp",
        "outputId": "0bab3700-2937-4dda-90c6-abb95e1faf78"
      },
      "execution_count": 53,
      "outputs": [
        {
          "output_type": "stream",
          "name": "stdout",
          "text": [
            "아싸홍삼! \n"
          ]
        }
      ]
    },
    {
      "cell_type": "code",
      "source": [
        "birth = \"2001.09.13\"\n",
        "year = birth[0:4]\n",
        "month= birth[6:7]\n",
        "date = birth[8:]\n",
        "\n",
        "print(f'{year}, {month}, {date}')"
      ],
      "metadata": {
        "colab": {
          "base_uri": "https://localhost:8080/"
        },
        "id": "YZBPHZz6SrTT",
        "outputId": "0c8757be-6c57-4e96-a91b-5d1177cf0b09"
      },
      "execution_count": 56,
      "outputs": [
        {
          "output_type": "stream",
          "name": "stdout",
          "text": [
            "2001, 9, 13\n"
          ]
        }
      ]
    },
    {
      "cell_type": "code",
      "source": [
        "num = \"1234567890\"\n",
        "\n",
        "# 전체 출력\n",
        "print(num[::])\n",
        "\n",
        "# 전체 출력\n",
        "print(num[::-1])\n",
        "\n",
        "# 2칸씩\n",
        "print(num[::2])\n",
        "\n",
        "# 인덱스 8까지 2칸씩\n",
        "print(num[0:8:2])\n",
        "\n",
        "# 슬라이싱 2칸씩 역주행\n",
        "print(num[8:0:-2])\n"
      ],
      "metadata": {
        "colab": {
          "base_uri": "https://localhost:8080/"
        },
        "id": "242l9EEXTIOc",
        "outputId": "accf76d4-1d96-4f2b-a38d-f0861ac57483"
      },
      "execution_count": 71,
      "outputs": [
        {
          "output_type": "stream",
          "name": "stdout",
          "text": [
            "1234567890\n",
            "0987654321\n",
            "13579\n",
            "1357\n",
            "9753\n"
          ]
        }
      ]
    },
    {
      "cell_type": "code",
      "source": [
        "quiz = '스님이 공중에 뜬다를 4글자로 말하면? 어중이떠중이'\n",
        "print(quiz[-7:])\n",
        "print(quiz[22:27])"
      ],
      "metadata": {
        "colab": {
          "base_uri": "https://localhost:8080/"
        },
        "id": "lFDFBoCVUJ5Q",
        "outputId": "1d529e77-4586-404e-ee1a-97cafbbef682"
      },
      "execution_count": 91,
      "outputs": [
        {
          "output_type": "stream",
          "name": "stdout",
          "text": [
            " 어중이떠중이\n",
            "어중이떠중\n"
          ]
        }
      ]
    },
    {
      "cell_type": "code",
      "source": [
        "fruit = 'apple'\n",
        "print(fruit.count('p'))\n",
        "print(fruit.index('p'))"
      ],
      "metadata": {
        "colab": {
          "base_uri": "https://localhost:8080/"
        },
        "id": "CBAsovLKUdAR",
        "outputId": "6485a49a-4aea-4ed9-e531-23ecc0326ce2"
      },
      "execution_count": 75,
      "outputs": [
        {
          "output_type": "stream",
          "name": "stdout",
          "text": [
            "2\n",
            "1\n"
          ]
        }
      ]
    },
    {
      "cell_type": "code",
      "source": [
        "lalaland = '사람들은 다른 사람의 열정에 끌리게 되어있어. 자신이 잊은 것을 상기시켜주거든'\n",
        "\n",
        "print(type(lalaland))\n",
        "print(lalaland[::-1])\n",
        "print(len(lalaland))\n",
        "print(lalaland[11:43])\n",
        "\n",
        "people = lalaland[:2]\n",
        "passion = lalaland[12:14]\n",
        "remind = lalaland[-7:-5]\n",
        "print(people,passion,remind)"
      ],
      "metadata": {
        "colab": {
          "base_uri": "https://localhost:8080/"
        },
        "id": "IdDtXl9KUrp1",
        "outputId": "775898d8-846c-437e-91f8-1665681bef3c"
      },
      "execution_count": 93,
      "outputs": [
        {
          "output_type": "stream",
          "name": "stdout",
          "text": [
            "<class 'str'>\n",
            "든거주켜시기상 을것 은잊 이신자 .어있어되 게리끌 에정열 의람사 른다 은들람사\n",
            "43\n",
            " 열정에 끌리게 되어있어. 자신이 잊은 것을 상기시켜주거든\n",
            "사람 열정 상기\n"
          ]
        }
      ]
    },
    {
      "cell_type": "code",
      "source": [
        "우영우 = \"기러기토마토스위스역삼역\"\n",
        "print(우영우[::-1])"
      ],
      "metadata": {
        "colab": {
          "base_uri": "https://localhost:8080/"
        },
        "id": "dgmUUtNSV5EJ",
        "outputId": "30bc8bbc-52a0-4d6d-fa2b-5b4dbe093e88"
      },
      "execution_count": 94,
      "outputs": [
        {
          "output_type": "stream",
          "name": "stdout",
          "text": [
            "역삼역스위스토마토기러기\n"
          ]
        }
      ]
    },
    {
      "cell_type": "code",
      "source": [
        "#Bool ..... ..  .... SHOWTIME\n",
        "#True true False false 달라요 => True, False\n",
        "\n",
        "print('heyhey' == 'heyHey')\n",
        "print('Python'!='pypy')\n",
        "print( 5 >= 5 )\n",
        "print( 5 < 4)"
      ],
      "metadata": {
        "colab": {
          "base_uri": "https://localhost:8080/"
        },
        "id": "vSNPeCZiXkcb",
        "outputId": "1e8c37a4-984a-4a9f-9f50-ec600f7fcd80"
      },
      "execution_count": 101,
      "outputs": [
        {
          "output_type": "stream",
          "name": "stdout",
          "text": [
            "False\n",
            "True\n",
            "True\n",
            "False\n"
          ]
        }
      ]
    },
    {
      "cell_type": "code",
      "source": [
        "# 중요\n",
        "# == , is\n",
        "\n",
        "print(3 is 3)\n",
        "print(3.0 is 3) # 객체 타입 비교\n",
        "print(3.0 == 3) # 값만 비교\n",
        "\n",
        "print(id(3.0))"
      ],
      "metadata": {
        "colab": {
          "base_uri": "https://localhost:8080/"
        },
        "id": "l0iL9deGY9dF",
        "outputId": "0a419f8d-ff67-4e42-e60f-4cc83bf31f29"
      },
      "execution_count": 106,
      "outputs": [
        {
          "output_type": "stream",
          "name": "stdout",
          "text": [
            "True\n",
            "False\n",
            "True\n",
            "132374816053232\n"
          ]
        },
        {
          "output_type": "stream",
          "name": "stderr",
          "text": [
            "<>:4: SyntaxWarning: \"is\" with a literal. Did you mean \"==\"?\n",
            "<>:5: SyntaxWarning: \"is\" with a literal. Did you mean \"==\"?\n",
            "<>:4: SyntaxWarning: \"is\" with a literal. Did you mean \"==\"?\n",
            "<>:5: SyntaxWarning: \"is\" with a literal. Did you mean \"==\"?\n",
            "<ipython-input-106-244f67a2986c>:4: SyntaxWarning: \"is\" with a literal. Did you mean \"==\"?\n",
            "  print(3 is 3)\n",
            "<ipython-input-106-244f67a2986c>:5: SyntaxWarning: \"is\" with a literal. Did you mean \"==\"?\n",
            "  print(3.0 is 3) # 타입 비교\n"
          ]
        }
      ]
    },
    {
      "cell_type": "code",
      "source": [
        "# 논리연산자\n",
        "# True : 1 , False : 0\n",
        "True and True #결괏값 True 1*1 = 1\n",
        "True and False #결괏값 False 1*0 = 0\n",
        "False and True #결괏값 False 0*1 = 0\n",
        "False and False #결괏값 False 0*0 = 0"
      ],
      "metadata": {
        "colab": {
          "base_uri": "https://localhost:8080/"
        },
        "id": "mKUYMc94bh15",
        "outputId": "efec5e20-6533-47f1-a7e1-6a08c0ce976b"
      },
      "execution_count": 112,
      "outputs": [
        {
          "output_type": "execute_result",
          "data": {
            "text/plain": [
              "False"
            ]
          },
          "metadata": {},
          "execution_count": 112
        }
      ]
    },
    {
      "cell_type": "code",
      "source": [
        "True or True #결괏값 True 1+1 = 2...\n",
        "True or False #결괏값 True 1+0 = 1\n",
        "False or True #결괏값 True 0+1 = 1\n",
        "False or False #결괏값 False 0+0 = 0"
      ],
      "metadata": {
        "colab": {
          "base_uri": "https://localhost:8080/"
        },
        "id": "mthJJQordAlu",
        "outputId": "e291a662-ca15-455e-f91c-566c515e7c2f"
      },
      "execution_count": 118,
      "outputs": [
        {
          "output_type": "execute_result",
          "data": {
            "text/plain": [
              "False"
            ]
          },
          "metadata": {},
          "execution_count": 118
        }
      ]
    },
    {
      "cell_type": "code",
      "source": [
        "# not\n",
        "\n",
        "not True #False\n",
        "not False #True\n"
      ],
      "metadata": {
        "colab": {
          "base_uri": "https://localhost:8080/"
        },
        "id": "pkD_h_yfdz1c",
        "outputId": "ea856484-24ba-42f1-a8fe-1b14297c5c8c"
      },
      "execution_count": 121,
      "outputs": [
        {
          "output_type": "execute_result",
          "data": {
            "text/plain": [
              "True"
            ]
          },
          "metadata": {},
          "execution_count": 121
        }
      ]
    },
    {
      "cell_type": "code",
      "source": [
        "10 == 12 or 6 != 2 #True\n",
        "2 > 5 and 7 == 7 #False\n",
        "not 14 <= 15 #False\n",
        "not 7 is 7.0 #True"
      ],
      "metadata": {
        "colab": {
          "base_uri": "https://localhost:8080/"
        },
        "id": "SuYA9NMYeNQl",
        "outputId": "032127c4-c14b-48a3-a23f-5328bf43b9fa"
      },
      "execution_count": 127,
      "outputs": [
        {
          "output_type": "execute_result",
          "data": {
            "text/plain": [
              "True"
            ]
          },
          "metadata": {},
          "execution_count": 127
        }
      ]
    },
    {
      "cell_type": "code",
      "source": [
        "# 문자열 Bool\n",
        "\n",
        "bool('우악')"
      ],
      "metadata": {
        "colab": {
          "base_uri": "https://localhost:8080/"
        },
        "id": "yR5ZmNVEfVlK",
        "outputId": "ee17ed3c-745d-475e-de18-a6f73db3d586"
      },
      "execution_count": 128,
      "outputs": [
        {
          "output_type": "execute_result",
          "data": {
            "text/plain": [
              "True"
            ]
          },
          "metadata": {},
          "execution_count": 128
        }
      ]
    },
    {
      "cell_type": "code",
      "source": [
        "# 중요!\n",
        "# 단락 평가\n",
        "# 앞의 False and 만 봐도 False 여서 뒤는 신경X\n",
        "# 코드 실행 속도 단축에 큰 영향을 준다\n",
        "print(False and True) #False\n",
        "print(False and '우악') #False\n",
        "\n",
        "print(True and False) #False\n",
        "\n",
        "# 뒤에 있는 값 출력\n",
        "print(True and '흐엥') #흐엥\n",
        "\n",
        "print(True or '하암') #True"
      ],
      "metadata": {
        "colab": {
          "base_uri": "https://localhost:8080/"
        },
        "id": "aqxkAcqnfdpI",
        "outputId": "cc06e4ba-3e1c-402d-c878-038ef52fbe6b"
      },
      "execution_count": 134,
      "outputs": [
        {
          "output_type": "stream",
          "name": "stdout",
          "text": [
            "False\n",
            "False\n",
            "False\n",
            "흐엥\n",
            "True\n"
          ]
        }
      ]
    }
  ]
}