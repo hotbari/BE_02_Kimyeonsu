{
  "nbformat": 4,
  "nbformat_minor": 0,
  "metadata": {
    "colab": {
      "provenance": [],
      "toc_visible": true,
      "authorship_tag": "ABX9TyPad0WwFMAiMP7zoDL4f65Y",
      "include_colab_link": true
    },
    "kernelspec": {
      "name": "python3",
      "display_name": "Python 3"
    },
    "language_info": {
      "name": "python"
    }
  },
  "cells": [
    {
      "cell_type": "markdown",
      "metadata": {
        "id": "view-in-github",
        "colab_type": "text"
      },
      "source": [
        "<a href=\"https://colab.research.google.com/github/hotbari/BE_02_Kimyeonsu/blob/main/chapter01_04.ipynb\" target=\"_parent\"><img src=\"https://colab.research.google.com/assets/colab-badge.svg\" alt=\"Open In Colab\"/></a>"
      ]
    },
    {
      "cell_type": "code",
      "execution_count": null,
      "metadata": {
        "colab": {
          "base_uri": "https://localhost:8080/"
        },
        "id": "Ihe-Csm9BVBh",
        "outputId": "46f351ba-019f-428e-937b-6ce69c7ef2c0"
      },
      "outputs": [
        {
          "output_type": "stream",
          "name": "stdout",
          "text": [
            "안보여유\n"
          ]
        }
      ],
      "source": [
        "#주석!\n",
        "print(\"안보여유\")"
      ]
    },
    {
      "cell_type": "code",
      "source": [
        "for animal in (\"rabbit\",\"dog\",'cat','tiget'):\n",
        "    print(animal)\n",
        "print(\"보러갈래요?\")"
      ],
      "metadata": {
        "colab": {
          "base_uri": "https://localhost:8080/"
        },
        "id": "IdMhTZULCLCH",
        "outputId": "3e828ef0-1efe-4266-bded-7791282ef5f5"
      },
      "execution_count": null,
      "outputs": [
        {
          "output_type": "stream",
          "name": "stdout",
          "text": [
            "rabbit\n",
            "dog\n",
            "cat\n",
            "tiget\n",
            "보러갈래요?\n"
          ]
        }
      ]
    },
    {
      "cell_type": "markdown",
      "source": [
        "#사칙연산\n",
        "더하기 +\n",
        "\n",
        "빼기 -\n",
        "\n",
        "곱하기 *\n",
        "\n",
        "나누기\n",
        "\n",
        "\n",
        "*   / : 일반적인 나누기\n",
        "*   // : 몫만 반환\n",
        "*   % : 나머지 반환\n",
        "\n",
        "\n",
        "거듭제곱 **\n"
      ],
      "metadata": {
        "id": "8GC6cqA4DK0g"
      }
    },
    {
      "cell_type": "code",
      "source": [
        "#더하기\n",
        "print(3+2)"
      ],
      "metadata": {
        "colab": {
          "base_uri": "https://localhost:8080/"
        },
        "id": "gLFwJiguCNoe",
        "outputId": "525ade19-065b-4dc3-b32f-ebf23697e479"
      },
      "execution_count": null,
      "outputs": [
        {
          "output_type": "stream",
          "name": "stdout",
          "text": [
            "5\n"
          ]
        }
      ]
    },
    {
      "cell_type": "code",
      "source": [
        "#빼기\n",
        "print(10-3)"
      ],
      "metadata": {
        "colab": {
          "base_uri": "https://localhost:8080/"
        },
        "id": "bWS3ATT-EOpq",
        "outputId": "7a837e1b-ecf7-471c-85f8-79279c614a2b"
      },
      "execution_count": null,
      "outputs": [
        {
          "output_type": "stream",
          "name": "stdout",
          "text": [
            "7\n"
          ]
        }
      ]
    },
    {
      "cell_type": "code",
      "source": [
        "#곱하기\n",
        "print(3**3)"
      ],
      "metadata": {
        "colab": {
          "base_uri": "https://localhost:8080/"
        },
        "id": "PtedO1OeERLA",
        "outputId": "cc2adf35-3fcd-4546-d1c4-d16bdecff48b"
      },
      "execution_count": null,
      "outputs": [
        {
          "output_type": "stream",
          "name": "stdout",
          "text": [
            "27\n"
          ]
        }
      ]
    },
    {
      "cell_type": "code",
      "source": [
        "#나누기 /\n",
        "print(6/5)"
      ],
      "metadata": {
        "colab": {
          "base_uri": "https://localhost:8080/"
        },
        "id": "v2YChK4sEmk7",
        "outputId": "699c381f-159e-4514-e284-a43021f6e2f0"
      },
      "execution_count": null,
      "outputs": [
        {
          "output_type": "stream",
          "name": "stdout",
          "text": [
            "1.2\n"
          ]
        }
      ]
    },
    {
      "cell_type": "code",
      "source": [
        "#나누기 //\n",
        "print(6//5)"
      ],
      "metadata": {
        "colab": {
          "base_uri": "https://localhost:8080/"
        },
        "id": "LQwrTmmUEqnQ",
        "outputId": "2853a453-fbe8-480d-e2cb-46b4470093de"
      },
      "execution_count": null,
      "outputs": [
        {
          "output_type": "stream",
          "name": "stdout",
          "text": [
            "1\n"
          ]
        }
      ]
    },
    {
      "cell_type": "code",
      "source": [
        "#나누기 %\n",
        "print(6%5)"
      ],
      "metadata": {
        "colab": {
          "base_uri": "https://localhost:8080/"
        },
        "id": "6WhRNTmqEthV",
        "outputId": "b2d804f2-e94d-4cd0-8b87-0978a7f86ab6"
      },
      "execution_count": null,
      "outputs": [
        {
          "output_type": "stream",
          "name": "stdout",
          "text": [
            "1\n"
          ]
        }
      ]
    },
    {
      "cell_type": "markdown",
      "source": [
        "**divmod**"
      ],
      "metadata": {
        "id": "wnUI5NAmFfsB"
      }
    },
    {
      "cell_type": "code",
      "source": [
        "divmod(3,2)"
      ],
      "metadata": {
        "colab": {
          "base_uri": "https://localhost:8080/"
        },
        "id": "13cmQXJyFlDR",
        "outputId": "2a87c189-6f66-44f2-c609-16a4bf04f539"
      },
      "execution_count": null,
      "outputs": [
        {
          "output_type": "execute_result",
          "data": {
            "text/plain": [
              "(1, 1)"
            ]
          },
          "metadata": {},
          "execution_count": 20
        }
      ]
    },
    {
      "cell_type": "code",
      "source": [
        "#아아 : 5000원 / 아샷추 : 6500원\n",
        "# 아아 2잔 / 아샷추 3잔"
      ],
      "metadata": {
        "id": "RvaRV2sjNyKF"
      },
      "execution_count": null,
      "outputs": []
    },
    {
      "cell_type": "code",
      "source": [
        "num = 1\n",
        "print(num)\n",
        "\n",
        "num_1, num_2 = 1, 2\n",
        "print(num_1)\n",
        "print(num_2)\n",
        "\n",
        "print(num_1,num_2)"
      ],
      "metadata": {
        "colab": {
          "base_uri": "https://localhost:8080/"
        },
        "id": "_uAJ5-ApN4oD",
        "outputId": "b7ef1de2-1f50-4434-b77f-300b2a3470dc"
      },
      "execution_count": null,
      "outputs": [
        {
          "output_type": "stream",
          "name": "stdout",
          "text": [
            "1\n",
            "1\n",
            "2\n",
            "1 2\n"
          ]
        }
      ]
    },
    {
      "cell_type": "code",
      "source": [
        "#1부터 5까지의 숫자를 더하는 문제. (변수 사용)\n",
        "sum = 1 + 2\n",
        "sum = sum + 3\n",
        "sum = sum + 4\n",
        "sum = sum + 5\n",
        "print(sum)"
      ],
      "metadata": {
        "colab": {
          "base_uri": "https://localhost:8080/"
        },
        "id": "2NSGmkdYSI2a",
        "outputId": "5ad9eab3-1157-4d6b-c30f-8c73533224a9"
      },
      "execution_count": null,
      "outputs": [
        {
          "output_type": "stream",
          "name": "stdout",
          "text": [
            "15\n"
          ]
        }
      ]
    },
    {
      "cell_type": "code",
      "source": [
        "sum2 = 1 + 2\n",
        "sum2 += 3\n",
        "sum2 += 4\n",
        "sum2 += 5\n",
        "print(sum2)"
      ],
      "metadata": {
        "colab": {
          "base_uri": "https://localhost:8080/"
        },
        "id": "m-qprF81UJW1",
        "outputId": "6ff96900-cc22-48c1-f630-3d92c738eadc"
      },
      "execution_count": null,
      "outputs": [
        {
          "output_type": "stream",
          "name": "stdout",
          "text": [
            "15\n"
          ]
        }
      ]
    },
    {
      "cell_type": "code",
      "source": [
        "#변수에 어떤값도 넣지 않고 선언하는 법\n",
        "nothing = None\n",
        "print(nothing)\n",
        "print(None)"
      ],
      "metadata": {
        "colab": {
          "base_uri": "https://localhost:8080/"
        },
        "id": "YiA5uD9HVLbi",
        "outputId": "cfa872a9-2805-452e-8934-1db027d27670"
      },
      "execution_count": null,
      "outputs": [
        {
          "output_type": "stream",
          "name": "stdout",
          "text": [
            "None\n",
            "None\n"
          ]
        }
      ]
    },
    {
      "cell_type": "code",
      "source": [
        "#print() 포메팅 3가지 f-string : print(f'{변수명}')\n",
        "\n",
        "me = \"나\"\n",
        "print(f'{me}만 빼고 다 고양이 있어')"
      ],
      "metadata": {
        "colab": {
          "base_uri": "https://localhost:8080/"
        },
        "id": "0UkmMAqFWeDd",
        "outputId": "feaea934-30c1-40d7-89f5-22d67f11d8f2"
      },
      "execution_count": null,
      "outputs": [
        {
          "output_type": "stream",
          "name": "stdout",
          "text": [
            "나만 빼고 다 고양이 있어\n"
          ]
        }
      ]
    },
    {
      "cell_type": "code",
      "source": [
        "fish__p, fish__s, fish__j = \"붕어빵(팥)\", \"붕어빵(슈크림)\", \"붕어빵(잡채)\"\n",
        "p_price, s__price, j__price = 2000, 2500, 3000\n",
        "order__j, order__s = 3, 2\n",
        "\n",
        "j__pay, s__pay = j__price*order__j, s__price*order__s\n",
        "total = order__j + order__s\n",
        "total__pay = j__pay + s__pay\n",
        "\n",
        "print(f'주문이 완료되었습니다. {fish__s}{order__s}개, {fish__j}{order__j}개 총 {total}개 결제 금액은 {total__pay}입니다.b')"
      ],
      "metadata": {
        "colab": {
          "base_uri": "https://localhost:8080/"
        },
        "id": "tjzUFMSvZnXy",
        "outputId": "c6170ab7-80c3-4e1e-b1b8-cf6df176b6dc"
      },
      "execution_count": null,
      "outputs": [
        {
          "output_type": "stream",
          "name": "stdout",
          "text": [
            "주문이 완료되었습니다. 붕어빵(슈크림)2개, 붕어빵(잡채)3개 총 5개 결제 금액은 14000입니다.\n"
          ]
        }
      ]
    },
    {
      "cell_type": "code",
      "source": [
        "이름 = '정성찬'\n",
        "나이 = 21\n",
        "키 = 186\n",
        "소속 = '서울'\n",
        "\n",
        "print(type(이름))\n",
        "print(type(나이))\n",
        "print(type(키))\n",
        "print(type(소속))\n",
        "\n"
      ],
      "metadata": {
        "colab": {
          "base_uri": "https://localhost:8080/"
        },
        "id": "YsvhxyMojFM5",
        "outputId": "29cedf42-effe-4674-cca1-a1f354be39a4"
      },
      "execution_count": null,
      "outputs": [
        {
          "output_type": "stream",
          "name": "stdout",
          "text": [
            "<class 'str'>\n",
            "<class 'int'>\n",
            "<class 'int'>\n",
            "<class 'str'>\n"
          ]
        }
      ]
    },
    {
      "cell_type": "code",
      "source": [
        "print(float(5))\n",
        "print(int(5.0))\n",
        "print(\"5\",\"5.0\")\n",
        "print(type(\"5\"), type(\"5.0\"))"
      ],
      "metadata": {
        "colab": {
          "base_uri": "https://localhost:8080/"
        },
        "id": "tdV9ifn4kCRT",
        "outputId": "c6101fba-cdd9-4a4b-eee5-ec522db19a6e"
      },
      "execution_count": null,
      "outputs": [
        {
          "output_type": "stream",
          "name": "stdout",
          "text": [
            "5.0\n",
            "5\n",
            "5 5.0\n",
            "<class 'str'> <class 'str'>\n"
          ]
        }
      ]
    },
    {
      "cell_type": "code",
      "source": [
        "\"14\"+\"월요일\""
      ],
      "metadata": {
        "colab": {
          "base_uri": "https://localhost:8080/",
          "height": 36
        },
        "id": "S9VcXbPNleKA",
        "outputId": "6f116037-f9c1-4aaa-bc81-3e0668520c22"
      },
      "execution_count": null,
      "outputs": [
        {
          "output_type": "execute_result",
          "data": {
            "text/plain": [
              "'14월요일'"
            ],
            "application/vnd.google.colaboratory.intrinsic+json": {
              "type": "string"
            }
          },
          "metadata": {},
          "execution_count": 42
        }
      ]
    },
    {
      "cell_type": "code",
      "source": [
        "문장 = \"안녕하세요. 오늘 하루도 좋은 날 보내세요\"\n",
        "print(문장[-1])\n",
        "print(문장[3:7])"
      ],
      "metadata": {
        "colab": {
          "base_uri": "https://localhost:8080/"
        },
        "id": "R4N4zAlUmfKP",
        "outputId": "741216c6-4cba-40db-c4d7-8eff53b92c5a"
      },
      "execution_count": null,
      "outputs": [
        {
          "output_type": "stream",
          "name": "stdout",
          "text": [
            "요\n",
            "세요. \n"
          ]
        }
      ]
    },
    {
      "cell_type": "code",
      "source": [
        "생년월일 = \"2001.09.13\"\n",
        "print(생년월일[0:4],생년월일[5:7],생년월일[8:11])\n"
      ],
      "metadata": {
        "colab": {
          "base_uri": "https://localhost:8080/"
        },
        "id": "10faHRdXmw4p",
        "outputId": "81f56b0e-669b-4ae5-ad48-f4a4a21e66ba"
      },
      "execution_count": null,
      "outputs": [
        {
          "output_type": "stream",
          "name": "stdout",
          "text": [
            "2001 09 13\n"
          ]
        }
      ]
    },
    {
      "cell_type": "code",
      "source": [
        "year = 생년월일[0:4]\n",
        "month = 생년월일[5:7]\n",
        "day = 생년월일[8:11]\n",
        "\n",
        "print(f'{year} {month} {day}')"
      ],
      "metadata": {
        "colab": {
          "base_uri": "https://localhost:8080/"
        },
        "id": "YcxeBc-fndi3",
        "outputId": "3ae57ad9-6830-42c6-afe2-f3f018c53744"
      },
      "execution_count": null,
      "outputs": [
        {
          "output_type": "stream",
          "name": "stdout",
          "text": [
            "2001 09 13\n"
          ]
        }
      ]
    },
    {
      "cell_type": "code",
      "source": [
        "숫자 = \"2523750238901\"\n",
        "\n",
        "print(숫자[::])\n",
        "print(숫자[::-1])\n",
        "print(숫자[::2])"
      ],
      "metadata": {
        "colab": {
          "base_uri": "https://localhost:8080/"
        },
        "id": "bkzK7UxFoGaS",
        "outputId": "471a9899-65af-43e2-c270-b9813647b7fc"
      },
      "execution_count": null,
      "outputs": [
        {
          "output_type": "stream",
          "name": "stdout",
          "text": [
            "2523750238901\n",
            "1098320573252\n",
            "2270391\n"
          ]
        }
      ]
    },
    {
      "cell_type": "code",
      "source": [
        "퀴즈 = \"스님이 공중에 뜬다를 4글자로 말하면? 어중이떠중이\"\n",
        "print(퀴즈[-6:])"
      ],
      "metadata": {
        "colab": {
          "base_uri": "https://localhost:8080/"
        },
        "id": "y7D1QvTwotgv",
        "outputId": "a287e9b7-3638-4e9e-a56f-ce109c77e675"
      },
      "execution_count": null,
      "outputs": [
        {
          "output_type": "stream",
          "name": "stdout",
          "text": [
            "어중이떠중이\n"
          ]
        }
      ]
    },
    {
      "cell_type": "code",
      "source": [
        "과일 = 'apple'\n",
        "print(과일.count('p'))\n",
        "print(len(과일))"
      ],
      "metadata": {
        "colab": {
          "base_uri": "https://localhost:8080/"
        },
        "id": "SZVQXOZyo7q3",
        "outputId": "dbf7e637-d99d-4b5f-dd79-9ed3cca59438"
      },
      "execution_count": null,
      "outputs": [
        {
          "output_type": "stream",
          "name": "stdout",
          "text": [
            "2\n",
            "5\n"
          ]
        }
      ]
    },
    {
      "cell_type": "code",
      "source": [
        "lalaland = \"사람들을 다른 사람들의 열정에 끌리게 되어있어 자신이 잊은 걸 상기시켜주니까\"\n"
      ],
      "metadata": {
        "id": "_qJ-uakIpOM8"
      },
      "execution_count": null,
      "outputs": []
    },
    {
      "cell_type": "code",
      "source": [
        "(3*7-16)/2-1"
      ],
      "metadata": {
        "colab": {
          "base_uri": "https://localhost:8080/"
        },
        "id": "A53emgjtI0o-",
        "outputId": "144d0852-bd1b-4ef5-c8c9-eefa609ff15c"
      },
      "execution_count": null,
      "outputs": [
        {
          "output_type": "execute_result",
          "data": {
            "text/plain": [
              "1.5"
            ]
          },
          "metadata": {},
          "execution_count": 5
        }
      ]
    },
    {
      "cell_type": "code",
      "source": [
        "ㄷ"
      ],
      "metadata": {
        "id": "wdAFwbhjI4ri"
      },
      "execution_count": null,
      "outputs": []
    }
  ]
}